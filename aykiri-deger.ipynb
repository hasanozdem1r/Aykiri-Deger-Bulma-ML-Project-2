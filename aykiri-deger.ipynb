{
 "cells": [
  {
   "cell_type": "markdown",
   "metadata": {},
   "source": [
    "### **Aykırı değer nedir?**\n",
    "Aykırı değer, bir veri kümesindeki diğer tüm gözlemlerden uzak bir veri noktasıdır. Veri kümesinin genel dağılımının dışında kalan bir veri noktası"
   ]
  },
  {
   "cell_type": "code",
   "execution_count": 18,
   "metadata": {},
   "outputs": [],
   "source": [
    "import numpy as np\n",
    "import matplotlib.pyplot as plt"
   ]
  },
  {
   "cell_type": "markdown",
   "metadata": {},
   "source": [
    "### **Bir aykırı değeri tanımlamak için kriterler nelerdir **\n",
    "* Veri noktası, çeyrekler arası aralığın 1,5 katının dışında, 3. çeyrek ve 1. çeyreğin altında\n",
    "* Veri noktası 3 standart sapmanın dışında kalırsa, z skorunu kullanabiliriz ve z skoru 2 standart sapmanın dışında kalırsa"
   ]
  },
  {
   "cell_type": "markdown",
   "metadata": {},
   "source": [
    "### **Bir aykırı değer veri kümesinde var olmasının nedeni nedir**\n",
    "* Verilerdeki değişkenlik\n",
    "* Deneysel bir ölçüm hatası"
   ]
  },
  {
   "cell_type": "markdown",
   "metadata": {},
   "source": [
    "### **Veri kümesinde aykırı değerlere sahip olmanın etkileri nelerdir**\n",
    "* İstatistiksel analizimiz sırasında çeşitli sorunlara neden olur\n",
    "* Ortalama ve standart sapma üzerinde önemli bir etkiye neden olabilir."
   ]
  },
  {
   "cell_type": "markdown",
   "metadata": {},
   "source": [
    "### **Aykırı değeri bulmanın çeşitli yolları**\n",
    "* Scatter Plot kullanmak\n",
    "* Box Plot kullanmak\n",
    "* Z-Score kullanmak\n",
    "* Çeyrekler arası aralık kullanmak (IQR)"
   ]
  },
  {
   "cell_type": "code",
   "execution_count": 43,
   "metadata": {},
   "outputs": [],
   "source": [
    "veriseti=[11,10,12,14,12,15,14,13,15,102,12,14,17,19,107,10,13,12,14,109,12,11,14,13,15,10,150,19,100]"
   ]
  },
  {
   "cell_type": "markdown",
   "metadata": {},
   "source": [
    "### **Z-Score ile Aykırı Değer Bulma**\n",
    "* Z-Score=(Gözlem-Ortalama)/Standart Sapma"
   ]
  },
  {
   "cell_type": "code",
   "execution_count": 44,
   "metadata": {},
   "outputs": [],
   "source": [
    "aykiriDeger=[]\n",
    "def aykırıDegerBul(veri):\n",
    "    sınır=3 #threshold\n",
    "    ortalama=np.mean(veri)\n",
    "    standartS=np.std(veri)\n",
    "    for i in veri:\n",
    "        z_score=(i-ortalama)/standartS\n",
    "        if np.abs(z_score)>sınır:\n",
    "            aykiriDeger.append(i)\n",
    "    return aykiriDeger"
   ]
  },
  {
   "cell_type": "code",
   "execution_count": 45,
   "metadata": {},
   "outputs": [],
   "source": [
    "aykırıDegerListe=aykırıDegerBul(veriseti)"
   ]
  },
  {
   "cell_type": "code",
   "execution_count": 48,
   "metadata": {},
   "outputs": [
    {
     "data": {
      "text/plain": [
       "[150]"
      ]
     },
     "execution_count": 48,
     "metadata": {},
     "output_type": "execute_result"
    }
   ],
   "source": [
    "aykırıDegerListe"
   ]
  },
  {
   "cell_type": "markdown",
   "metadata": {},
   "source": [
    "### ** Çeyrekler Arası Aralık **\n",
    "  **ADIMLAR**\n",
    "* 1.Verileri artan sırayla düzenle\n",
    "* 2.%25(Q1) ve %75(Q3) Hesapla\n",
    "* 3.IQR Bul =Q3-Q1\n",
    "* 4.Alt sınırı bul Q1*1.5\n",
    "* 5.Üst sınırı bul Q3.1.5\n",
    "* NOT: Alt ve üst değer arası dışında kalan her şey bir aykırı değerdir"
   ]
  },
  {
   "cell_type": "code",
   "execution_count": 49,
   "metadata": {},
   "outputs": [],
   "source": [
    "def iqrBulma(veriset):\n",
    "    aykiriDegerListe=[]\n",
    "    siraliListe=sorted(veriset)\n",
    "    ceyrek1,ceyrek3=np.percentile(veriset,[25,75])\n",
    "    #iqr bulma\n",
    "    iqr_deger=ceyrek3-ceyrek1\n",
    "    altSinir=ceyrek1*(1.5)\n",
    "    ustSinir=ceyrek3*(1.5)\n",
    "    for i in veriset:\n",
    "        if (i<altSinir or i>ustSinir):\n",
    "            aykiriDegerListe.append(i)\n",
    "    return aykiriDegerListe"
   ]
  },
  {
   "cell_type": "code",
   "execution_count": 50,
   "metadata": {},
   "outputs": [
    {
     "data": {
      "text/plain": [
       "[11,\n",
       " 10,\n",
       " 12,\n",
       " 14,\n",
       " 12,\n",
       " 15,\n",
       " 14,\n",
       " 13,\n",
       " 15,\n",
       " 102,\n",
       " 12,\n",
       " 14,\n",
       " 17,\n",
       " 107,\n",
       " 10,\n",
       " 13,\n",
       " 12,\n",
       " 14,\n",
       " 109,\n",
       " 12,\n",
       " 11,\n",
       " 14,\n",
       " 13,\n",
       " 15,\n",
       " 10,\n",
       " 150,\n",
       " 100]"
      ]
     },
     "execution_count": 50,
     "metadata": {},
     "output_type": "execute_result"
    }
   ],
   "source": [
    "iqrBulma(veriseti)"
   ]
  },
  {
   "cell_type": "code",
   "execution_count": null,
   "metadata": {},
   "outputs": [],
   "source": []
  },
  {
   "cell_type": "code",
   "execution_count": null,
   "metadata": {},
   "outputs": [],
   "source": []
  }
 ],
 "metadata": {
  "kernelspec": {
   "display_name": "Python 3",
   "language": "python",
   "name": "python3"
  },
  "language_info": {
   "codemirror_mode": {
    "name": "ipython",
    "version": 3
   },
   "file_extension": ".py",
   "mimetype": "text/x-python",
   "name": "python",
   "nbconvert_exporter": "python",
   "pygments_lexer": "ipython3",
   "version": "3.6.4"
  }
 },
 "nbformat": 4,
 "nbformat_minor": 2
}
